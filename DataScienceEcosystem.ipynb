{
 "cells": [
  {
   "cell_type": "markdown",
   "id": "633ffe28-ec33-4ca3-82e1-a301bd0a7f79",
   "metadata": {},
   "source": [
    "# H1: Data Science Tools and Ecosystem"
   ]
  },
  {
   "cell_type": "markdown",
   "id": "b9c9aef2-c2a0-4c12-97fb-6a0e0b507668",
   "metadata": {},
   "source": [
    "In this notebook, Data Science Tools and Ecosystem are summarized."
   ]
  },
  {
   "cell_type": "markdown",
   "id": "0edca7b7-5ebf-46fe-835d-358d0b52a612",
   "metadata": {},
   "source": [
    "**Objectives:**\n",
    "- Learn to write headings\n",
    "- Ordered list of data science tools\n",
    "- A table of data science tools\n",
    "- Samples of arithmetic expressions\n",
    "- See **bold** font"
   ]
  },
  {
   "cell_type": "markdown",
   "id": "3bc0235f-b901-4497-b64e-a0f758a2299a",
   "metadata": {},
   "source": [
    "Some of the popular languages that Data Scientists use are:\n",
    "1. Python\n",
    "2. R\n",
    "3. SQL"
   ]
  },
  {
   "cell_type": "markdown",
   "id": "2dd78926-058c-4d0f-ac42-bbab26dfa9fd",
   "metadata": {},
   "source": [
    "Some of the commonly used libraries used by Data Scientists include:\n",
    "1. Pandas\n",
    "2. NumPy\n",
    "3. SciPy\n",
    "4. matplotlib"
   ]
  },
  {
   "cell_type": "markdown",
   "id": "a580817b-086f-4e81-8bd1-0a2bd25dc50d",
   "metadata": {},
   "source": [
    "| Data Science Tools |\n",
    "----------------------\n",
    "| MySQL |\n",
    "| MongoDB |\n",
    "| Apache |"
   ]
  },
  {
   "cell_type": "markdown",
   "id": "36eabe47-b1f4-4646-9bca-bbfc339cf30d",
   "metadata": {},
   "source": [
    "### H3: Below are a few examples of evaluating arithmetic expressions in Python:"
   ]
  },
  {
   "cell_type": "code",
   "execution_count": 16,
   "id": "0b2c3bb8-a4b8-4d0a-84db-a09c6a84f94b",
   "metadata": {},
   "outputs": [
    {
     "data": {
      "text/plain": [
       "17"
      ]
     },
     "execution_count": 16,
     "metadata": {},
     "output_type": "execute_result"
    }
   ],
   "source": [
    "# This a simple arithmetic expression to mutiply then add integers\n",
    "\n",
    "(3*4)+5"
   ]
  },
  {
   "cell_type": "code",
   "execution_count": 17,
   "id": "6e7b9930-066d-4c72-b3e1-f3ddc508825a",
   "metadata": {},
   "outputs": [
    {
     "data": {
      "text/plain": [
       "3.3333333333333335"
      ]
     },
     "execution_count": 17,
     "metadata": {},
     "output_type": "execute_result"
    }
   ],
   "source": [
    "# This will convert 200 minutes to hours by diving by 60\n",
    "\n",
    "200/60"
   ]
  },
  {
   "cell_type": "markdown",
   "id": "410b0e10-1b23-4e83-b180-443dccd6c53c",
   "metadata": {},
   "source": [
    "## Author\n",
    "\n",
    "César Ruiz"
   ]
  },
  {
   "cell_type": "code",
   "execution_count": null,
   "id": "d9c3a033-4ef8-4d68-ad1f-7deba3053cbc",
   "metadata": {},
   "outputs": [],
   "source": []
  }
 ],
 "metadata": {
  "kernelspec": {
   "display_name": "anaconda-2022.05-py39",
   "language": "python",
   "name": "conda-env-anaconda-2022.05-py39-py"
  },
  "language_info": {
   "codemirror_mode": {
    "name": "ipython",
    "version": 3
   },
   "file_extension": ".py",
   "mimetype": "text/x-python",
   "name": "python",
   "nbconvert_exporter": "python",
   "pygments_lexer": "ipython3",
   "version": "3.9.12"
  }
 },
 "nbformat": 4,
 "nbformat_minor": 5
}
